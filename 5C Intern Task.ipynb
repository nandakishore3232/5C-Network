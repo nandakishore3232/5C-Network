{
 "cells": [
  {
   "cell_type": "code",
   "execution_count": 1,
   "id": "596e25c8",
   "metadata": {},
   "outputs": [],
   "source": [
    "import numpy as np\n",
    "import pandas as pd\n",
    "import matplotlib.pyplot as plt"
   ]
  },
  {
   "cell_type": "markdown",
   "id": "af3bd711",
   "metadata": {},
   "source": [
    "# Sales1 Data"
   ]
  },
  {
   "cell_type": "code",
   "execution_count": 2,
   "id": "1d8a8057",
   "metadata": {},
   "outputs": [
    {
     "data": {
      "text/html": [
       "<div>\n",
       "<style scoped>\n",
       "    .dataframe tbody tr th:only-of-type {\n",
       "        vertical-align: middle;\n",
       "    }\n",
       "\n",
       "    .dataframe tbody tr th {\n",
       "        vertical-align: top;\n",
       "    }\n",
       "\n",
       "    .dataframe thead th {\n",
       "        text-align: right;\n",
       "    }\n",
       "</style>\n",
       "<table border=\"1\" class=\"dataframe\">\n",
       "  <thead>\n",
       "    <tr style=\"text-align: right;\">\n",
       "      <th></th>\n",
       "      <th>Date</th>\n",
       "      <th>Firm bought from</th>\n",
       "      <th>Buying price</th>\n",
       "      <th>Customer</th>\n",
       "      <th>Selling price</th>\n",
       "      <th>Quantity sold</th>\n",
       "    </tr>\n",
       "  </thead>\n",
       "  <tbody>\n",
       "    <tr>\n",
       "      <th>0</th>\n",
       "      <td>21/08/23</td>\n",
       "      <td>Vendor6</td>\n",
       "      <td>72.11</td>\n",
       "      <td>Customer7</td>\n",
       "      <td>91.58</td>\n",
       "      <td>44</td>\n",
       "    </tr>\n",
       "    <tr>\n",
       "      <th>1</th>\n",
       "      <td>21/08/23</td>\n",
       "      <td>Vendor4</td>\n",
       "      <td>75.08</td>\n",
       "      <td>Customer7</td>\n",
       "      <td>83.71</td>\n",
       "      <td>17</td>\n",
       "    </tr>\n",
       "    <tr>\n",
       "      <th>2</th>\n",
       "      <td>21/08/23</td>\n",
       "      <td>Vendor7</td>\n",
       "      <td>83.93</td>\n",
       "      <td>Customer2</td>\n",
       "      <td>103.76</td>\n",
       "      <td>15</td>\n",
       "    </tr>\n",
       "    <tr>\n",
       "      <th>3</th>\n",
       "      <td>21/08/23</td>\n",
       "      <td>Vendor7</td>\n",
       "      <td>52.01</td>\n",
       "      <td>Customer3</td>\n",
       "      <td>64.53</td>\n",
       "      <td>7</td>\n",
       "    </tr>\n",
       "    <tr>\n",
       "      <th>4</th>\n",
       "      <td>21/08/23</td>\n",
       "      <td>Vendor2</td>\n",
       "      <td>98.91</td>\n",
       "      <td>Customer5</td>\n",
       "      <td>140.92</td>\n",
       "      <td>1</td>\n",
       "    </tr>\n",
       "    <tr>\n",
       "      <th>...</th>\n",
       "      <td>...</td>\n",
       "      <td>...</td>\n",
       "      <td>...</td>\n",
       "      <td>...</td>\n",
       "      <td>...</td>\n",
       "      <td>...</td>\n",
       "    </tr>\n",
       "    <tr>\n",
       "      <th>65</th>\n",
       "      <td>27/08/23</td>\n",
       "      <td>Vendor4</td>\n",
       "      <td>64.82</td>\n",
       "      <td>Customer6</td>\n",
       "      <td>87.45</td>\n",
       "      <td>18</td>\n",
       "    </tr>\n",
       "    <tr>\n",
       "      <th>66</th>\n",
       "      <td>27/08/23</td>\n",
       "      <td>Vendor8</td>\n",
       "      <td>88.79</td>\n",
       "      <td>Customer3</td>\n",
       "      <td>105.59</td>\n",
       "      <td>5</td>\n",
       "    </tr>\n",
       "    <tr>\n",
       "      <th>67</th>\n",
       "      <td>27/08/23</td>\n",
       "      <td>Vendor5</td>\n",
       "      <td>63.30</td>\n",
       "      <td>Customer5</td>\n",
       "      <td>92.92</td>\n",
       "      <td>32</td>\n",
       "    </tr>\n",
       "    <tr>\n",
       "      <th>68</th>\n",
       "      <td>27/08/23</td>\n",
       "      <td>Vendor5</td>\n",
       "      <td>94.06</td>\n",
       "      <td>Customer5</td>\n",
       "      <td>125.67</td>\n",
       "      <td>4</td>\n",
       "    </tr>\n",
       "    <tr>\n",
       "      <th>69</th>\n",
       "      <td>27/08/23</td>\n",
       "      <td>Vendor5</td>\n",
       "      <td>56.28</td>\n",
       "      <td>Customer6</td>\n",
       "      <td>82.16</td>\n",
       "      <td>1</td>\n",
       "    </tr>\n",
       "  </tbody>\n",
       "</table>\n",
       "<p>70 rows × 6 columns</p>\n",
       "</div>"
      ],
      "text/plain": [
       "        Date Firm bought from  Buying price   Customer  Selling price  \\\n",
       "0   21/08/23          Vendor6         72.11  Customer7          91.58   \n",
       "1   21/08/23          Vendor4         75.08  Customer7          83.71   \n",
       "2   21/08/23          Vendor7         83.93  Customer2         103.76   \n",
       "3   21/08/23          Vendor7         52.01  Customer3          64.53   \n",
       "4   21/08/23          Vendor2         98.91  Customer5         140.92   \n",
       "..       ...              ...           ...        ...            ...   \n",
       "65  27/08/23          Vendor4         64.82  Customer6          87.45   \n",
       "66  27/08/23          Vendor8         88.79  Customer3         105.59   \n",
       "67  27/08/23          Vendor5         63.30  Customer5          92.92   \n",
       "68  27/08/23          Vendor5         94.06  Customer5         125.67   \n",
       "69  27/08/23          Vendor5         56.28  Customer6          82.16   \n",
       "\n",
       "    Quantity sold  \n",
       "0              44  \n",
       "1              17  \n",
       "2              15  \n",
       "3               7  \n",
       "4               1  \n",
       "..            ...  \n",
       "65             18  \n",
       "66              5  \n",
       "67             32  \n",
       "68              4  \n",
       "69              1  \n",
       "\n",
       "[70 rows x 6 columns]"
      ]
     },
     "execution_count": 2,
     "metadata": {},
     "output_type": "execute_result"
    }
   ],
   "source": [
    "#Read the sales1 data\n",
    "sales_data_1=pd.read_csv(\"sales_data_1.csv\")\n",
    "sales_data_1"
   ]
  },
  {
   "cell_type": "markdown",
   "id": "22a16cdf",
   "metadata": {},
   "source": [
    "### 1. What is their overall gross margin for their business?"
   ]
  },
  {
   "cell_type": "code",
   "execution_count": 3,
   "id": "5ea8ffc8",
   "metadata": {},
   "outputs": [
    {
     "name": "stdout",
     "output_type": "stream",
     "text": [
      "Overall Gross Margin for their Business 23.33236050738993\n"
     ]
    }
   ],
   "source": [
    "overall_gross_margin = ((sales_data_1['Selling price'] - sales_data_1['Buying price']).sum() / sales_data_1['Selling price'].sum()) * 100\n",
    "print(\"Overall Gross Margin for their Business\",overall_gross_margin)"
   ]
  },
  {
   "cell_type": "markdown",
   "id": "a8e0fd06",
   "metadata": {},
   "source": [
    "### 2. Which vendor is the most profitable?"
   ]
  },
  {
   "cell_type": "code",
   "execution_count": 4,
   "id": "59f8dac0",
   "metadata": {},
   "outputs": [
    {
     "name": "stdout",
     "output_type": "stream",
     "text": [
      "Most profitable Vendor: Vendor7\n"
     ]
    }
   ],
   "source": [
    "vendor_profit = sales_data_1.groupby('Firm bought from')['Selling price'].sum() - sales_data_1.groupby('Firm bought from')['Buying price'].sum()\n",
    "most_profitable_vendor = vendor_profit.idxmax()\n",
    "print(\"Most profitable Vendor:\",most_profitable_vendor)"
   ]
  },
  {
   "cell_type": "markdown",
   "id": "1f2c9864",
   "metadata": {},
   "source": [
    "### 3. Which customer is the least profitable?"
   ]
  },
  {
   "cell_type": "code",
   "execution_count": 5,
   "id": "22de9031",
   "metadata": {},
   "outputs": [
    {
     "name": "stdout",
     "output_type": "stream",
     "text": [
      "Least Profitable Customer: Customer9\n"
     ]
    }
   ],
   "source": [
    "customer_profit = sales_data_1.groupby('Customer')['Selling price'].sum() - sales_data_1.groupby('Customer')['Buying price'].sum()\n",
    "least_profitable_customer = customer_profit.idxmin()\n",
    "print(\"Least Profitable Customer:\",least_profitable_customer)"
   ]
  },
  {
   "cell_type": "markdown",
   "id": "98e40221",
   "metadata": {},
   "source": [
    "### 4. Which day of the week was most profitable for them?"
   ]
  },
  {
   "cell_type": "code",
   "execution_count": 6,
   "id": "890ae0bc",
   "metadata": {},
   "outputs": [
    {
     "name": "stdout",
     "output_type": "stream",
     "text": [
      "Most Profitable Day: Monday\n"
     ]
    }
   ],
   "source": [
    "# Extract the day of the week from the date attribute\n",
    "sales_data_1['Date'] = pd.to_datetime(sales_data_1['Date'])\n",
    "sales_data_1['day_of_week'] = sales_data_1['Date'].dt.day_name()\n",
    "\n",
    "# Find the most and least profitable days of the week\n",
    "profit_by_day = sales_data_1.groupby('day_of_week')['Selling price'].sum() - sales_data_1.groupby('day_of_week')['Buying price'].sum()\n",
    "\n",
    "most_profitable_day = profit_by_day.idxmax()\n",
    "\n",
    "print(\"Most Profitable Day:\",most_profitable_day)"
   ]
  },
  {
   "cell_type": "markdown",
   "id": "d2d124e3",
   "metadata": {},
   "source": [
    "### 5. Which day of the week was the least profitable for them?"
   ]
  },
  {
   "cell_type": "code",
   "execution_count": 7,
   "id": "98059d50",
   "metadata": {},
   "outputs": [
    {
     "name": "stdout",
     "output_type": "stream",
     "text": [
      "Least Profitable Day: Thursday\n"
     ]
    }
   ],
   "source": [
    "least_profitable_day = profit_by_day.idxmin()\n",
    "print(\"Least Profitable Day:\",least_profitable_day)"
   ]
  },
  {
   "cell_type": "markdown",
   "id": "25936078",
   "metadata": {},
   "source": [
    "# Sales 2 Data"
   ]
  },
  {
   "cell_type": "code",
   "execution_count": 8,
   "id": "0e0e4ec6",
   "metadata": {},
   "outputs": [
    {
     "data": {
      "text/html": [
       "<div>\n",
       "<style scoped>\n",
       "    .dataframe tbody tr th:only-of-type {\n",
       "        vertical-align: middle;\n",
       "    }\n",
       "\n",
       "    .dataframe tbody tr th {\n",
       "        vertical-align: top;\n",
       "    }\n",
       "\n",
       "    .dataframe thead th {\n",
       "        text-align: right;\n",
       "    }\n",
       "</style>\n",
       "<table border=\"1\" class=\"dataframe\">\n",
       "  <thead>\n",
       "    <tr style=\"text-align: right;\">\n",
       "      <th></th>\n",
       "      <th>Date</th>\n",
       "      <th>Firm bought from</th>\n",
       "      <th>Buying price</th>\n",
       "      <th>Quantity bought</th>\n",
       "      <th>Customer</th>\n",
       "      <th>Selling price</th>\n",
       "      <th>Quantity sold</th>\n",
       "    </tr>\n",
       "  </thead>\n",
       "  <tbody>\n",
       "    <tr>\n",
       "      <th>0</th>\n",
       "      <td>21-08-2023</td>\n",
       "      <td>Vendor6</td>\n",
       "      <td>72.11</td>\n",
       "      <td>60</td>\n",
       "      <td>Customer7</td>\n",
       "      <td>91.58</td>\n",
       "      <td>44</td>\n",
       "    </tr>\n",
       "    <tr>\n",
       "      <th>1</th>\n",
       "      <td>21-08-2023</td>\n",
       "      <td>Vendor4</td>\n",
       "      <td>75.08</td>\n",
       "      <td>92</td>\n",
       "      <td>Customer7</td>\n",
       "      <td>83.71</td>\n",
       "      <td>17</td>\n",
       "    </tr>\n",
       "    <tr>\n",
       "      <th>2</th>\n",
       "      <td>21-08-2023</td>\n",
       "      <td>Vendor7</td>\n",
       "      <td>83.93</td>\n",
       "      <td>16</td>\n",
       "      <td>Customer2</td>\n",
       "      <td>103.76</td>\n",
       "      <td>15</td>\n",
       "    </tr>\n",
       "    <tr>\n",
       "      <th>3</th>\n",
       "      <td>21-08-2023</td>\n",
       "      <td>Vendor7</td>\n",
       "      <td>52.01</td>\n",
       "      <td>62</td>\n",
       "      <td>Customer3</td>\n",
       "      <td>64.53</td>\n",
       "      <td>7</td>\n",
       "    </tr>\n",
       "    <tr>\n",
       "      <th>4</th>\n",
       "      <td>21-08-2023</td>\n",
       "      <td>Vendor2</td>\n",
       "      <td>98.91</td>\n",
       "      <td>1</td>\n",
       "      <td>Customer5</td>\n",
       "      <td>140.92</td>\n",
       "      <td>1</td>\n",
       "    </tr>\n",
       "    <tr>\n",
       "      <th>...</th>\n",
       "      <td>...</td>\n",
       "      <td>...</td>\n",
       "      <td>...</td>\n",
       "      <td>...</td>\n",
       "      <td>...</td>\n",
       "      <td>...</td>\n",
       "      <td>...</td>\n",
       "    </tr>\n",
       "    <tr>\n",
       "      <th>65</th>\n",
       "      <td>27-08-2023</td>\n",
       "      <td>Vendor4</td>\n",
       "      <td>64.82</td>\n",
       "      <td>28</td>\n",
       "      <td>Customer6</td>\n",
       "      <td>87.45</td>\n",
       "      <td>18</td>\n",
       "    </tr>\n",
       "    <tr>\n",
       "      <th>66</th>\n",
       "      <td>27-08-2023</td>\n",
       "      <td>Vendor8</td>\n",
       "      <td>88.79</td>\n",
       "      <td>14</td>\n",
       "      <td>Customer3</td>\n",
       "      <td>105.59</td>\n",
       "      <td>5</td>\n",
       "    </tr>\n",
       "    <tr>\n",
       "      <th>67</th>\n",
       "      <td>27-08-2023</td>\n",
       "      <td>Vendor5</td>\n",
       "      <td>63.30</td>\n",
       "      <td>81</td>\n",
       "      <td>Customer5</td>\n",
       "      <td>92.92</td>\n",
       "      <td>32</td>\n",
       "    </tr>\n",
       "    <tr>\n",
       "      <th>68</th>\n",
       "      <td>27-08-2023</td>\n",
       "      <td>Vendor5</td>\n",
       "      <td>94.06</td>\n",
       "      <td>18</td>\n",
       "      <td>Customer5</td>\n",
       "      <td>125.67</td>\n",
       "      <td>4</td>\n",
       "    </tr>\n",
       "    <tr>\n",
       "      <th>69</th>\n",
       "      <td>27-08-2023</td>\n",
       "      <td>Vendor5</td>\n",
       "      <td>56.28</td>\n",
       "      <td>25</td>\n",
       "      <td>Customer6</td>\n",
       "      <td>82.16</td>\n",
       "      <td>1</td>\n",
       "    </tr>\n",
       "  </tbody>\n",
       "</table>\n",
       "<p>70 rows × 7 columns</p>\n",
       "</div>"
      ],
      "text/plain": [
       "          Date Firm bought from  Buying price  Quantity bought   Customer  \\\n",
       "0   21-08-2023          Vendor6         72.11               60  Customer7   \n",
       "1   21-08-2023          Vendor4         75.08               92  Customer7   \n",
       "2   21-08-2023          Vendor7         83.93               16  Customer2   \n",
       "3   21-08-2023          Vendor7         52.01               62  Customer3   \n",
       "4   21-08-2023          Vendor2         98.91                1  Customer5   \n",
       "..         ...              ...           ...              ...        ...   \n",
       "65  27-08-2023          Vendor4         64.82               28  Customer6   \n",
       "66  27-08-2023          Vendor8         88.79               14  Customer3   \n",
       "67  27-08-2023          Vendor5         63.30               81  Customer5   \n",
       "68  27-08-2023          Vendor5         94.06               18  Customer5   \n",
       "69  27-08-2023          Vendor5         56.28               25  Customer6   \n",
       "\n",
       "    Selling price  Quantity sold  \n",
       "0           91.58             44  \n",
       "1           83.71             17  \n",
       "2          103.76             15  \n",
       "3           64.53              7  \n",
       "4          140.92              1  \n",
       "..            ...            ...  \n",
       "65          87.45             18  \n",
       "66         105.59              5  \n",
       "67          92.92             32  \n",
       "68         125.67              4  \n",
       "69          82.16              1  \n",
       "\n",
       "[70 rows x 7 columns]"
      ]
     },
     "execution_count": 8,
     "metadata": {},
     "output_type": "execute_result"
    }
   ],
   "source": [
    "#Read the sales2 data\n",
    "sales_data_2=pd.read_csv(\"sales_data_2.csv\")\n",
    "sales_data_2"
   ]
  },
  {
   "cell_type": "markdown",
   "id": "2801a2b8",
   "metadata": {},
   "source": [
    "### 6. Calculate a 3-day average of the daily gross profit?"
   ]
  },
  {
   "cell_type": "code",
   "execution_count": 9,
   "id": "bf641c52",
   "metadata": {},
   "outputs": [
    {
     "name": "stdout",
     "output_type": "stream",
     "text": [
      "3 Days Average for the gross profit\n",
      "\n",
      " Date\n",
      "21-08-2023          NaN\n",
      "22-08-2023          NaN\n",
      "23-08-2023    18.118333\n",
      "24-08-2023    14.578667\n",
      "25-08-2023    14.213667\n",
      "26-08-2023    14.826333\n",
      "27-08-2023    18.232000\n",
      "Name: gross_profit, dtype: float64\n"
     ]
    }
   ],
   "source": [
    "# Calculate a 3-day average of daily gross profit\n",
    "sales_data_2['gross_profit'] = sales_data_2['Selling price'] - sales_data_2['Buying price']\n",
    "daily_avg_gross_profit = sales_data_2.groupby('Date')['gross_profit'].mean().rolling(window=3).mean()\n",
    "print(\"3 Days Average for the gross profit\\n\\n\",daily_avg_gross_profit)"
   ]
  },
  {
   "cell_type": "markdown",
   "id": "e05bcf03",
   "metadata": {},
   "source": [
    "### 7. Provide insights into how this 3-day trend changes over the time period covered in the dataset"
   ]
  },
  {
   "cell_type": "code",
   "execution_count": 10,
   "id": "5cba857c",
   "metadata": {},
   "outputs": [
    {
     "data": {
      "image/png": "[encoded data removed]",
      "text/plain": [
       "<Figure size 1000x600 with 1 Axes>"
      ]
     },
     "metadata": {},
     "output_type": "display_data"
    }
   ],
   "source": [
    "# We can create a line chart to visualize the 3-day trend changes over the time period\n",
    "plt.figure(figsize=(10, 6))\n",
    "plt.plot(daily_avg_gross_profit, marker='o', linestyle='-')\n",
    "plt.title('3-Day Trend Change')\n",
    "#plt.title('3-Day Rolling Average Gross Profit Trend')\n",
    "\n",
    "plt.xlabel('Date')\n",
    "plt.ylabel('3-Day Average Gross Profit')\n",
    "#plt.grid(True)\n",
    "\n",
    "# Show the plot\n",
    "plt.show()"
   ]
  },
  {
   "cell_type": "markdown",
   "id": "b9422d09",
   "metadata": {},
   "source": [
    "### 8. Can you optimize the sales process to ensure gross margin is maximized?"
   ]
  },
  {
   "cell_type": "code",
   "execution_count": 11,
   "id": "90c4f2e2",
   "metadata": {},
   "outputs": [
    {
     "name": "stdout",
     "output_type": "stream",
     "text": [
      "Firing Vendor: []\n",
      "Go of any Customer: []\n"
     ]
    }
   ],
   "source": [
    "#Vendors with negative gross profit and consider firing them\n",
    "negative_profit_vendors = sales_data_2.groupby('Firm bought from')['gross_profit'].sum().loc[lambda x: x < 0].index.tolist()\n",
    "\n",
    "#Customers with negative gross profit and consider letting them go\n",
    "negative_profit_customers = sales_data_2.groupby('Customer')['gross_profit'].sum().loc[lambda x: x < 0].index.tolist()\n",
    "\n",
    "print(\"Firing Vendor:\", negative_profit_vendors)\n",
    "print(\"Go of any Customer:\", negative_profit_customers)\n"
   ]
  },
  {
   "cell_type": "markdown",
   "id": "934a7dce",
   "metadata": {},
   "source": [
    "### 9. Calculate the 25th, 50th (median), and 75th percentiles for both buying and selling prices?"
   ]
  },
  {
   "cell_type": "code",
   "execution_count": 12,
   "id": "7f35907b",
   "metadata": {},
   "outputs": [
    {
     "name": "stdout",
     "output_type": "stream",
     "text": [
      "Buying Percentiles\n",
      "\n",
      "25th Percentile: 29.9\n",
      "50th Percentile: 60.76\n",
      "75th Percentile: 78.32000000000001\n"
     ]
    }
   ],
   "source": [
    "# Calculate percentiles for buying and selling prices\n",
    "\n",
    "#Percentile for Buying price\n",
    "buying_25th_percentile=np.percentile(sales_data_2['Buying price'],25)\n",
    "buying_50th_percentile=np.percentile(sales_data_2['Buying price'],50)\n",
    "buying_75th_percentile=np.percentile(sales_data_2['Buying price'],75)\n",
    "print(\"Buying Percentiles\\n\")\n",
    "print(\"25th Percentile:\",buying_25th_percentile)\n",
    "print(\"50th Percentile:\",buying_50th_percentile)\n",
    "print(\"75th Percentile:\",buying_75th_percentile)"
   ]
  },
  {
   "cell_type": "code",
   "execution_count": 13,
   "id": "d6f3fbeb",
   "metadata": {},
   "outputs": [
    {
     "name": "stdout",
     "output_type": "stream",
     "text": [
      "Selling Percentiles\n",
      "\n",
      "25th Percentile: 38.975\n",
      "50th Percentile: 78.99000000000001\n",
      "75th Percentile: 103.39750000000001\n"
     ]
    }
   ],
   "source": [
    "#Percentile for Selling price\n",
    "selling_25th_percentile=np.percentile(sales_data_2['Selling price'],25)\n",
    "selling_50th_percentile=np.percentile(sales_data_2['Selling price'],50)\n",
    "selling_75th_percentile=np.percentile(sales_data_2['Selling price'],75)\n",
    "print(\"Selling Percentiles\\n\")\n",
    "print(\"25th Percentile:\",selling_25th_percentile)\n",
    "print(\"50th Percentile:\",selling_50th_percentile)\n",
    "print(\"75th Percentile:\",selling_75th_percentile)"
   ]
  },
  {
   "cell_type": "markdown",
   "id": "9140af0f",
   "metadata": {},
   "source": [
    "### 10. Analyze how often the Sapota's prices fall below the 25th percentile or above the 75th percentile, potentially indicating they are buying at a high price or selling at a low price relative to their own transaction history."
   ]
  },
  {
   "cell_type": "code",
   "execution_count": 14,
   "id": "fe4ea2d3",
   "metadata": {},
   "outputs": [
    {
     "name": "stdout",
     "output_type": "stream",
     "text": [
      "Transactions Percentage below the 25th percentile: 25.71428571428571%\n",
      "Transactions Percentage above the 75th percentile: 30.0%\n"
     ]
    }
   ],
   "source": [
    "# Check how often prices fall below 25th and above 75th percentile\n",
    "below_25th_percentile = ((sales_data_2['Buying price'] < buying_25th_percentile) | (sales_data_2['Selling price'] < selling_25th_percentile)).sum()\n",
    "\n",
    "above_75th_percentile = ((sales_data_2['Buying price'] > buying_75th_percentile) | (sales_data_2['Selling price'] > selling_75th_percentile)).sum()\n",
    "\n",
    "total_transactions = len(sales_data_2)\n",
    "\n",
    "# Calculating percentages\n",
    "below_25th_percentile=(below_25th_percentile / total_transactions) * 100\n",
    "above_75th_percentile=(above_75th_percentile / total_transactions) * 100\n",
    "\n",
    "print(f\"Transactions Percentage below the 25th percentile: {below_25th_percentile}%\")\n",
    "print(f\"Transactions Percentage above the 75th percentile: {above_75th_percentile}%\")"
   ]
  },
  {
   "cell_type": "markdown",
   "id": "bbda9e53",
   "metadata": {},
   "source": [
    "### 11. Bharath says that Vendor 4 has to be honored. What impact does it have on your optimal gross margin?"
   ]
  },
  {
   "cell_type": "code",
   "execution_count": 15,
   "id": "bf48a0b5",
   "metadata": {},
   "outputs": [
    {
     "name": "stdout",
     "output_type": "stream",
     "text": [
      "Gross Margin without Vendor 4: 17.00147540983606\n",
      "Gross Margin with Vendor 4: 18.901111111111106\n",
      "Impact on Gross Margin by honoring Vendor 4: 1.899635701275045\n"
     ]
    }
   ],
   "source": [
    "# Calculating gross margin without honoring vendor4\n",
    "optimal_gross_margin_without_vendor4 = (sales_data_2[sales_data_2['Firm bought from'] != 'Vendor4']['Selling price'] - sales_data_2[sales_data_2['Firm bought from'] != 'Vendor4']['Buying price']).mean()\n",
    "\n",
    "# Calculating gross margin when honoring vendor4\n",
    "optimal_gross_margin_with_vendor4 = (sales_data_2[sales_data_2['Firm bought from'] == 'Vendor4']['Selling price'] - sales_data_2[sales_data_2['Firm bought from'] == 'Vendor4']['Buying price']).mean()\n",
    "\n",
    "# Calculating impact on gross margin\n",
    "impact_on_gross_margin = optimal_gross_margin_with_vendor4 - optimal_gross_margin_without_vendor4\n",
    "\n",
    "# Print the results\n",
    "print(\"Gross Margin without Vendor 4:\", optimal_gross_margin_without_vendor4)\n",
    "print(\"Gross Margin with Vendor 4:\", optimal_gross_margin_with_vendor4)\n",
    "print(\"Impact on Gross Margin by honoring Vendor 4:\", impact_on_gross_margin)\n"
   ]
  },
  {
   "cell_type": "markdown",
   "id": "4262ef28",
   "metadata": {},
   "source": [
    "### 12. Which vendor should we have a strategic tie up so that we source only from them (the goal here is to have the highest gross margin). What's the theoretical max margin the firm could have from that branch?"
   ]
  },
  {
   "cell_type": "code",
   "execution_count": 16,
   "id": "3daf2377",
   "metadata": {},
   "outputs": [
    {
     "name": "stdout",
     "output_type": "stream",
     "text": [
      "Vendor for Strategic Tie-Up: Vendor4\n",
      "Theoretical Max Gross Margin (Considering Quantity Bought): 58630.99\n"
     ]
    }
   ],
   "source": [
    "# Calculate the maximum gross margin by assuming the selling price that maximizes profit\n",
    "sales_data_2['gross_margin'] = (sales_data_2['Selling price'] - sales_data_2['Buying price']) * sales_data_2['Quantity sold']\n",
    "\n",
    "# Find the selling price that maximizes profit for each row\n",
    "sales_data_2['optimal_selling_price'] = sales_data_2.apply(lambda row: row['Buying price'] if row['Buying price'] > row['Selling price'] else row['Selling price'], axis=1)\n",
    "\n",
    "# Calculate total gross margin per vendor\n",
    "vendor_gross_margin = sales_data_2.groupby('Firm bought from')['gross_margin'].sum()\n",
    "\n",
    "# Find the vendor with the highest total gross margin\n",
    "max_profit_vendor = vendor_gross_margin.idxmax()\n",
    "\n",
    "# Calculate the maximum possible gross margin\n",
    "max_possible_gross_margin = (sales_data_2['optimal_selling_price'] - sales_data_2['Buying price']) * sales_data_2['Quantity bought']\n",
    "\n",
    "# Calculate the theoretical maximum gross margin\n",
    "theoretical_max_gross_margin = max_possible_gross_margin.sum()\n",
    "\n",
    "# Vendor with the highest total gross margin\n",
    "print(\"Vendor for Strategic Tie-Up:\", max_profit_vendor)\n",
    "\n",
    "# Theoretical max gross margin\n",
    "print(\"Theoretical Max Gross Margin (Considering Quantity Bought):\", theoretical_max_gross_margin)"
   ]
  },
  {
   "cell_type": "markdown",
   "id": "b19676d3",
   "metadata": {},
   "source": [
    "### 13. Given this is the ground truth, what is the price elasticity of Sapota for that branch? (If you increase by Rs.1, how much sales will go up/down and if you decrease price by Rs. 1, how much sales will go up/down)?"
   ]
  },
  {
   "cell_type": "code",
   "execution_count": 17,
   "id": "281919d0",
   "metadata": {},
   "outputs": [],
   "source": [
    "#Increase +1\n",
    "price_change = 1\n",
    "\n",
    "# Calculate the initial total quantity sold\n",
    "initial_quantity_sold = sales_data_2['Quantity sold'].sum()\n",
    "\n",
    "# Calculate the total quantity sold after increasing the price\n",
    "sales_data_2['New Selling Price'] = sales_data_2['Selling price'] + price_change\n",
    "new_quantity_sold = sales_data_2['New Selling Price'] * sales_data_2['Quantity sold']\n",
    "new_total_quantity_sold = new_quantity_sold.sum()\n",
    "\n",
    "# Calculate the percentage change in quantity sold\n",
    "percentage_change_quantity_sold = ((new_total_quantity_sold - initial_quantity_sold) / initial_quantity_sold) * 100\n",
    "\n",
    "# Calculate the percentage change in price\n",
    "percentage_change_price = (price_change / sales_data_2['Selling price'].mean()) * 100\n",
    "\n",
    "# Calculate price elasticity\n",
    "i_elasticity = percentage_change_quantity_sold / percentage_change_price"
   ]
  },
  {
   "cell_type": "code",
   "execution_count": 18,
   "id": "fb8b87c8",
   "metadata": {},
   "outputs": [],
   "source": [
    "#Decrease -1\n",
    "\n",
    "# Calculate the total quantity sold after increasing the price\n",
    "sales_data_2['New Selling Price'] = sales_data_2['Selling price'] - price_change\n",
    "new_quantity_sold = sales_data_2['New Selling Price'] * sales_data_2['Quantity sold']\n",
    "new_total_quantity_sold = new_quantity_sold.sum()\n",
    "\n",
    "# Calculate the percentage change in quantity sold\n",
    "percentage_change_quantity_sold = ((new_total_quantity_sold - initial_quantity_sold) / initial_quantity_sold) * 100\n",
    "\n",
    "# Calculate the percentage change in price\n",
    "percentage_change_price = (price_change / sales_data_2['Selling price'].mean()) * 100\n",
    "\n",
    "# Calculate price elasticity\n",
    "d_elasticity = percentage_change_quantity_sold / percentage_change_price"
   ]
  },
  {
   "cell_type": "code",
   "execution_count": 19,
   "id": "3e46f66f",
   "metadata": {},
   "outputs": [
    {
     "name": "stdout",
     "output_type": "stream",
     "text": [
      "Change in price of Sapota for that Branch Increasing by 1: 5566.55\n",
      "Change in price of Sapota for that Branch Decreasing by 1: 5418.72\n",
      "Total Price Elasticity for that branch: 147.8265714285717\n"
     ]
    }
   ],
   "source": [
    "Total_change = (i_elasticity - d_elasticity)\n",
    "print(\"Change in price of Sapota for that Branch Increasing by 1: {:.2f}\".format(i_elasticity))\n",
    "print(\"Change in price of Sapota for that Branch Decreasing by 1: {:.2f}\".format(d_elasticity))\n",
    "print(\"Total Price Elasticity for that branch:\",Total_change)"
   ]
  },
  {
   "cell_type": "code",
   "execution_count": null,
   "id": "367da07d",
   "metadata": {},
   "outputs": [],
   "source": []
  }
 ],
 "metadata": {
  "kernelspec": {
   "display_name": "Python 3 (ipykernel)",
   "language": "python",
   "name": "python3"
  },
  "language_info": {
   "codemirror_mode": {
    "name": "ipython",
    "version": 3
   },
   "file_extension": ".py",
   "mimetype": "text/x-python",
   "name": "python",
   "nbconvert_exporter": "python",
   "pygments_lexer": "ipython3",
   "version": "3.9.16"
  }
 },
 "nbformat": 4,
 "nbformat_minor": 5
}
