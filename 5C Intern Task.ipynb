{
 "cells": [
  {
   "cell_type": "code",
   "execution_count": 1,
   "id": "596e25c8",
   "metadata": {},
   "outputs": [],
   "source": [
    "import numpy as np\n",
    "import pandas as pd\n",
    "import matplotlib.pyplot as plt"
   ]
  },
  {
   "cell_type": "code",
   "execution_count": 2,
   "id": "1d8a8057",
   "metadata": {},
   "outputs": [
    {
     "data": {
      "text/html": [
       "<div>\n",
       "<style scoped>\n",
       "    .dataframe tbody tr th:only-of-type {\n",
       "        vertical-align: middle;\n",
       "    }\n",
       "\n",
       "    .dataframe tbody tr th {\n",
       "        vertical-align: top;\n",
       "    }\n",
       "\n",
       "    .dataframe thead th {\n",
       "        text-align: right;\n",
       "    }\n",
       "</style>\n",
       "<table border=\"1\" class=\"dataframe\">\n",
       "  <thead>\n",
       "    <tr style=\"text-align: right;\">\n",
       "      <th></th>\n",
       "      <th>Date</th>\n",
       "      <th>Firm bought from</th>\n",
       "      <th>Buying price</th>\n",
       "      <th>Customer</th>\n",
       "      <th>Selling price</th>\n",
       "      <th>Quantity sold</th>\n",
       "    </tr>\n",
       "  </thead>\n",
       "  <tbody>\n",
       "    <tr>\n",
       "      <th>0</th>\n",
       "      <td>21/08/23</td>\n",
       "      <td>Vendor6</td>\n",
       "      <td>72.11</td>\n",
       "      <td>Customer7</td>\n",
       "      <td>91.58</td>\n",
       "      <td>44</td>\n",
       "    </tr>\n",
       "    <tr>\n",
       "      <th>1</th>\n",
       "      <td>21/08/23</td>\n",
       "      <td>Vendor4</td>\n",
       "      <td>75.08</td>\n",
       "      <td>Customer7</td>\n",
       "      <td>83.71</td>\n",
       "      <td>17</td>\n",
       "    </tr>\n",
       "    <tr>\n",
       "      <th>2</th>\n",
       "      <td>21/08/23</td>\n",
       "      <td>Vendor7</td>\n",
       "      <td>83.93</td>\n",
       "      <td>Customer2</td>\n",
       "      <td>103.76</td>\n",
       "      <td>15</td>\n",
       "    </tr>\n",
       "    <tr>\n",
       "      <th>3</th>\n",
       "      <td>21/08/23</td>\n",
       "      <td>Vendor7</td>\n",
       "      <td>52.01</td>\n",
       "      <td>Customer3</td>\n",
       "      <td>64.53</td>\n",
       "      <td>7</td>\n",
       "    </tr>\n",
       "    <tr>\n",
       "      <th>4</th>\n",
       "      <td>21/08/23</td>\n",
       "      <td>Vendor2</td>\n",
       "      <td>98.91</td>\n",
       "      <td>Customer5</td>\n",
       "      <td>140.92</td>\n",
       "      <td>1</td>\n",
       "    </tr>\n",
       "    <tr>\n",
       "      <th>...</th>\n",
       "      <td>...</td>\n",
       "      <td>...</td>\n",
       "      <td>...</td>\n",
       "      <td>...</td>\n",
       "      <td>...</td>\n",
       "      <td>...</td>\n",
       "    </tr>\n",
       "    <tr>\n",
       "      <th>65</th>\n",
       "      <td>27/08/23</td>\n",
       "      <td>Vendor4</td>\n",
       "      <td>64.82</td>\n",
       "      <td>Customer6</td>\n",
       "      <td>87.45</td>\n",
       "      <td>18</td>\n",
       "    </tr>\n",
       "    <tr>\n",
       "      <th>66</th>\n",
       "      <td>27/08/23</td>\n",
       "      <td>Vendor8</td>\n",
       "      <td>88.79</td>\n",
       "      <td>Customer3</td>\n",
       "      <td>105.59</td>\n",
       "      <td>5</td>\n",
       "    </tr>\n",
       "    <tr>\n",
       "      <th>67</th>\n",
       "      <td>27/08/23</td>\n",
       "      <td>Vendor5</td>\n",
       "      <td>63.30</td>\n",
       "      <td>Customer5</td>\n",
       "      <td>92.92</td>\n",
       "      <td>32</td>\n",
       "    </tr>\n",
       "    <tr>\n",
       "      <th>68</th>\n",
       "      <td>27/08/23</td>\n",
       "      <td>Vendor5</td>\n",
       "      <td>94.06</td>\n",
       "      <td>Customer5</td>\n",
       "      <td>125.67</td>\n",
       "      <td>4</td>\n",
       "    </tr>\n",
       "    <tr>\n",
       "      <th>69</th>\n",
       "      <td>27/08/23</td>\n",
       "      <td>Vendor5</td>\n",
       "      <td>56.28</td>\n",
       "      <td>Customer6</td>\n",
       "      <td>82.16</td>\n",
       "      <td>1</td>\n",
       "    </tr>\n",
       "  </tbody>\n",
       "</table>\n",
       "<p>70 rows × 6 columns</p>\n",
       "</div>"
      ],
      "text/plain": [
       "        Date Firm bought from  Buying price   Customer  Selling price  \\\n",
       "0   21/08/23          Vendor6         72.11  Customer7          91.58   \n",
       "1   21/08/23          Vendor4         75.08  Customer7          83.71   \n",
       "2   21/08/23          Vendor7         83.93  Customer2         103.76   \n",
       "3   21/08/23          Vendor7         52.01  Customer3          64.53   \n",
       "4   21/08/23          Vendor2         98.91  Customer5         140.92   \n",
       "..       ...              ...           ...        ...            ...   \n",
       "65  27/08/23          Vendor4         64.82  Customer6          87.45   \n",
       "66  27/08/23          Vendor8         88.79  Customer3         105.59   \n",
       "67  27/08/23          Vendor5         63.30  Customer5          92.92   \n",
       "68  27/08/23          Vendor5         94.06  Customer5         125.67   \n",
       "69  27/08/23          Vendor5         56.28  Customer6          82.16   \n",
       "\n",
       "    Quantity sold  \n",
       "0              44  \n",
       "1              17  \n",
       "2              15  \n",
       "3               7  \n",
       "4               1  \n",
       "..            ...  \n",
       "65             18  \n",
       "66              5  \n",
       "67             32  \n",
       "68              4  \n",
       "69              1  \n",
       "\n",
       "[70 rows x 6 columns]"
      ]
     },
     "execution_count": 2,
     "metadata": {},
     "output_type": "execute_result"
    }
   ],
   "source": [
    "#Read the sales1 data\n",
    "sales_data_1=pd.read_csv(\"sales_data_1.csv\")\n",
    "sales_data_1"
   ]
  },
  {
   "cell_type": "markdown",
   "id": "22a16cdf",
   "metadata": {},
   "source": [
    "# 1"
   ]
  },
  {
   "cell_type": "code",
   "execution_count": 3,
   "id": "5ea8ffc8",
   "metadata": {},
   "outputs": [
    {
     "name": "stdout",
     "output_type": "stream",
     "text": [
      "Overall Gross Margin for their Business 23.33236050738993\n"
     ]
    }
   ],
   "source": [
    "overall_gross_margin = ((sales_data_1['Selling price'] - sales_data_1['Buying price']).sum() / sales_data_1['Selling price'].sum()) * 100\n",
    "print(\"Overall Gross Margin for their Business\",overall_gross_margin)"
   ]
  },
  {
   "cell_type": "markdown",
   "id": "a8e0fd06",
   "metadata": {},
   "source": [
    "# 2"
   ]
  },
  {
   "cell_type": "code",
   "execution_count": 4,
   "id": "59f8dac0",
   "metadata": {},
   "outputs": [
    {
     "name": "stdout",
     "output_type": "stream",
     "text": [
      "Most profitable Vendor: Vendor7\n"
     ]
    }
   ],
   "source": [
    "vendor_profit = sales_data_1.groupby('Firm bought from')['Selling price'].sum() - sales_data_1.groupby('Firm bought from')['Buying price'].sum()\n",
    "most_profitable_vendor = vendor_profit.idxmax()\n",
    "print(\"Most profitable Vendor:\",most_profitable_vendor)"
   ]
  },
  {
   "cell_type": "markdown",
   "id": "1f2c9864",
   "metadata": {},
   "source": [
    "# 3"
   ]
  },
  {
   "cell_type": "code",
   "execution_count": 5,
   "id": "22de9031",
   "metadata": {},
   "outputs": [
    {
     "name": "stdout",
     "output_type": "stream",
     "text": [
      "Least Profitable Customer: Customer9\n"
     ]
    }
   ],
   "source": [
    "customer_profit = sales_data_1.groupby('Customer')['Selling price'].sum() - sales_data_1.groupby('Customer')['Buying price'].sum()\n",
    "least_profitable_customer = customer_profit.idxmin()\n",
    "print(\"Least Profitable Customer:\",least_profitable_customer)"
   ]
  },
  {
   "cell_type": "markdown",
   "id": "98e40221",
   "metadata": {},
   "source": [
    "# 4"
   ]
  },
  {
   "cell_type": "code",
   "execution_count": 6,
   "id": "890ae0bc",
   "metadata": {},
   "outputs": [
    {
     "name": "stdout",
     "output_type": "stream",
     "text": [
      "Most Profitable Day: Monday\n"
     ]
    }
   ],
   "source": [
    "# Extract the day of the week from the date attribute\n",
    "sales_data_1['Date'] = pd.to_datetime(sales_data_1['Date'])\n",
    "sales_data_1['day_of_week'] = sales_data_1['Date'].dt.day_name()\n",
    "\n",
    "# Find the most and least profitable days of the week\n",
    "profit_by_day = sales_data_1.groupby('day_of_week')['Selling price'].sum() - sales_data_1.groupby('day_of_week')['Buying price'].sum()\n",
    "\n",
    "most_profitable_day = profit_by_day.idxmax()\n",
    "\n",
    "print(\"Most Profitable Day:\",most_profitable_day)"
   ]
  },
  {
   "cell_type": "markdown",
   "id": "d2d124e3",
   "metadata": {},
   "source": [
    "# 5"
   ]
  },
  {
   "cell_type": "code",
   "execution_count": 7,
   "id": "98059d50",
   "metadata": {},
   "outputs": [
    {
     "name": "stdout",
     "output_type": "stream",
     "text": [
      "Least Profitable Day: Thursday\n"
     ]
    }
   ],
   "source": [
    "least_profitable_day = profit_by_day.idxmin()\n",
    "print(\"Least Profitable Day:\",least_profitable_day)"
   ]
  },
  {
   "cell_type": "code",
   "execution_count": 8,
   "id": "0e0e4ec6",
   "metadata": {},
   "outputs": [],
   "source": [
    "#Read the sales2 data\n",
    "sales_data_2=pd.read_csv(\"sales_data_2.csv\")"
   ]
  },
  {
   "cell_type": "markdown",
   "id": "25936078",
   "metadata": {},
   "source": [
    "# Sales 2 Data"
   ]
  },
  {
   "cell_type": "code",
   "execution_count": 9,
   "id": "254db90f",
   "metadata": {},
   "outputs": [
    {
     "data": {
      "text/html": [
       "<div>\n",
       "<style scoped>\n",
       "    .dataframe tbody tr th:only-of-type {\n",
       "        vertical-align: middle;\n",
       "    }\n",
       "\n",
       "    .dataframe tbody tr th {\n",
       "        vertical-align: top;\n",
       "    }\n",
       "\n",
       "    .dataframe thead th {\n",
       "        text-align: right;\n",
       "    }\n",
       "</style>\n",
       "<table border=\"1\" class=\"dataframe\">\n",
       "  <thead>\n",
       "    <tr style=\"text-align: right;\">\n",
       "      <th></th>\n",
       "      <th>Date</th>\n",
       "      <th>Firm bought from</th>\n",
       "      <th>Buying price</th>\n",
       "      <th>Quantity bought</th>\n",
       "      <th>Customer</th>\n",
       "      <th>Selling price</th>\n",
       "      <th>Quantity sold</th>\n",
       "    </tr>\n",
       "  </thead>\n",
       "  <tbody>\n",
       "    <tr>\n",
       "      <th>0</th>\n",
       "      <td>21-08-2023</td>\n",
       "      <td>Vendor6</td>\n",
       "      <td>72.11</td>\n",
       "      <td>60</td>\n",
       "      <td>Customer7</td>\n",
       "      <td>91.58</td>\n",
       "      <td>44</td>\n",
       "    </tr>\n",
       "    <tr>\n",
       "      <th>1</th>\n",
       "      <td>21-08-2023</td>\n",
       "      <td>Vendor4</td>\n",
       "      <td>75.08</td>\n",
       "      <td>92</td>\n",
       "      <td>Customer7</td>\n",
       "      <td>83.71</td>\n",
       "      <td>17</td>\n",
       "    </tr>\n",
       "    <tr>\n",
       "      <th>2</th>\n",
       "      <td>21-08-2023</td>\n",
       "      <td>Vendor7</td>\n",
       "      <td>83.93</td>\n",
       "      <td>16</td>\n",
       "      <td>Customer2</td>\n",
       "      <td>103.76</td>\n",
       "      <td>15</td>\n",
       "    </tr>\n",
       "    <tr>\n",
       "      <th>3</th>\n",
       "      <td>21-08-2023</td>\n",
       "      <td>Vendor7</td>\n",
       "      <td>52.01</td>\n",
       "      <td>62</td>\n",
       "      <td>Customer3</td>\n",
       "      <td>64.53</td>\n",
       "      <td>7</td>\n",
       "    </tr>\n",
       "    <tr>\n",
       "      <th>4</th>\n",
       "      <td>21-08-2023</td>\n",
       "      <td>Vendor2</td>\n",
       "      <td>98.91</td>\n",
       "      <td>1</td>\n",
       "      <td>Customer5</td>\n",
       "      <td>140.92</td>\n",
       "      <td>1</td>\n",
       "    </tr>\n",
       "  </tbody>\n",
       "</table>\n",
       "</div>"
      ],
      "text/plain": [
       "         Date Firm bought from  Buying price  Quantity bought   Customer  \\\n",
       "0  21-08-2023          Vendor6         72.11               60  Customer7   \n",
       "1  21-08-2023          Vendor4         75.08               92  Customer7   \n",
       "2  21-08-2023          Vendor7         83.93               16  Customer2   \n",
       "3  21-08-2023          Vendor7         52.01               62  Customer3   \n",
       "4  21-08-2023          Vendor2         98.91                1  Customer5   \n",
       "\n",
       "   Selling price  Quantity sold  \n",
       "0          91.58             44  \n",
       "1          83.71             17  \n",
       "2         103.76             15  \n",
       "3          64.53              7  \n",
       "4         140.92              1  "
      ]
     },
     "execution_count": 9,
     "metadata": {},
     "output_type": "execute_result"
    }
   ],
   "source": [
    "#First 5 rows of the data\n",
    "sales_data_2.head()"
   ]
  },
  {
   "cell_type": "markdown",
   "id": "2801a2b8",
   "metadata": {},
   "source": [
    "# 6"
   ]
  },
  {
   "cell_type": "code",
   "execution_count": 20,
   "id": "bf641c52",
   "metadata": {},
   "outputs": [
    {
     "name": "stdout",
     "output_type": "stream",
     "text": [
      "3 Days Average for the gross profit\n",
      "\n",
      " Date\n",
      "2023-08-21          NaN\n",
      "2023-08-22          NaN\n",
      "2023-08-23    18.118333\n",
      "2023-08-24    14.578667\n",
      "2023-08-25    14.213667\n",
      "2023-08-26    14.826333\n",
      "2023-08-27    18.232000\n",
      "Name: gross_profit, dtype: float64\n"
     ]
    }
   ],
   "source": [
    "# Calculate a 3-day average of daily gross profit\n",
    "sales_data_2['Date'] = pd.to_datetime(sales_data_2['Date'])\n",
    "\n",
    "sales_data_2['gross_profit'] = sales_data_2['Selling price'] - sales_data_2['Buying price']\n",
    "daily_avg_gross_profit = sales_data_2.groupby('Date')['gross_profit'].mean().rolling(window=3).mean()\n",
    "print(\"3 Days Average for the gross profit\\n\\n\",daily_avg_gross_profit)"
   ]
  },
  {
   "cell_type": "markdown",
   "id": "e05bcf03",
   "metadata": {},
   "source": [
    "# 7"
   ]
  },
  {
   "cell_type": "code",
   "execution_count": 11,
   "id": "5cba857c",
   "metadata": {},
   "outputs": [
    {
     "data": {
      "image/png": "[encoded data removed]",
      "text/plain": [
       "<Figure size 1000x600 with 1 Axes>"
      ]
     },
     "metadata": {},
     "output_type": "display_data"
    }
   ],
   "source": [
    "# We can create a line chart to visualize the 3-day trend changes over the time period\n",
    "plt.figure(figsize=(10, 6))\n",
    "plt.plot(daily_avg_gross_profit, marker='o', linestyle='-')\n",
    "plt.title('3-Day Trend Change')\n",
    "#plt.title('3-Day Rolling Average Gross Profit Trend')\n",
    "\n",
    "plt.xlabel('Date')\n",
    "plt.ylabel('3-Day Average Gross Profit')\n",
    "#plt.grid(True)\n",
    "\n",
    "# Show the plot\n",
    "plt.show()"
   ]
  },
  {
   "cell_type": "markdown",
   "id": "b9422d09",
   "metadata": {},
   "source": [
    "# 8"
   ]
  },
  {
   "cell_type": "code",
   "execution_count": 12,
   "id": "90c4f2e2",
   "metadata": {},
   "outputs": [
    {
     "name": "stdout",
     "output_type": "stream",
     "text": [
      "Firing Vendor: []\n",
      "Go of any Customer: []\n"
     ]
    }
   ],
   "source": [
    "#Vendors with negative gross profit and consider firing them\n",
    "negative_profit_vendors = sales_data_2.groupby('Firm bought from')['gross_profit'].sum().loc[lambda x: x < 0].index.tolist()\n",
    "\n",
    "#Customers with negative gross profit and consider letting them go\n",
    "negative_profit_customers = sales_data_2.groupby('Customer')['gross_profit'].sum().loc[lambda x: x < 0].index.tolist()\n",
    "\n",
    "print(\"Firing Vendor:\", negative_profit_vendors)\n",
    "print(\"Go of any Customer:\", negative_profit_customers)\n"
   ]
  },
  {
   "cell_type": "markdown",
   "id": "934a7dce",
   "metadata": {},
   "source": [
    "# 9"
   ]
  },
  {
   "cell_type": "code",
   "execution_count": 13,
   "id": "7f35907b",
   "metadata": {},
   "outputs": [
    {
     "name": "stdout",
     "output_type": "stream",
     "text": [
      "Buying Percentiles\n",
      "\n",
      "25th Percentile: 29.9\n",
      "50th Percentile: 60.76\n",
      "75th Percentile: 78.32000000000001\n"
     ]
    }
   ],
   "source": [
    "# Calculate percentiles for buying and selling prices (Question 9)\n",
    "\n",
    "#Percentile for Buying price\n",
    "buying_25th_percentile=np.percentile(sales_data_2['Buying price'],25)\n",
    "buying_50th_percentile=np.percentile(sales_data_2['Buying price'],50)\n",
    "buying_75th_percentile=np.percentile(sales_data_2['Buying price'],75)\n",
    "print(\"Buying Percentiles\\n\")\n",
    "print(\"25th Percentile:\",buying_25th_percentile)\n",
    "print(\"50th Percentile:\",buying_50th_percentile)\n",
    "print(\"75th Percentile:\",buying_75th_percentile)"
   ]
  },
  {
   "cell_type": "code",
   "execution_count": 14,
   "id": "d6f3fbeb",
   "metadata": {},
   "outputs": [
    {
     "name": "stdout",
     "output_type": "stream",
     "text": [
      "Selling Percentiles\n",
      "\n",
      "25th Percentile: 38.975\n",
      "50th Percentile: 78.99000000000001\n",
      "75th Percentile: 103.39750000000001\n"
     ]
    }
   ],
   "source": [
    "#Percentile for Selling price\n",
    "selling_25th_percentile=np.percentile(sales_data_2['Selling price'],25)\n",
    "selling_50th_percentile=np.percentile(sales_data_2['Selling price'],50)\n",
    "selling_75th_percentile=np.percentile(sales_data_2['Selling price'],75)\n",
    "print(\"Selling Percentiles\\n\")\n",
    "print(\"25th Percentile:\",selling_25th_percentile)\n",
    "print(\"50th Percentile:\",selling_50th_percentile)\n",
    "print(\"75th Percentile:\",selling_75th_percentile)"
   ]
  },
  {
   "cell_type": "markdown",
   "id": "9140af0f",
   "metadata": {},
   "source": [
    "# 10"
   ]
  },
  {
   "cell_type": "code",
   "execution_count": 15,
   "id": "fe4ea2d3",
   "metadata": {},
   "outputs": [
    {
     "name": "stdout",
     "output_type": "stream",
     "text": [
      "Transactions Percentage below the 25th percentile: 25.71428571428571 %\n",
      "Transactions Percentage above the 75th percentile: 30.0 %\n"
     ]
    }
   ],
   "source": [
    "# Check how often prices fall below 25th and above 75th percentile\n",
    "below_25th_percentile = ((sales_data_2['Buying price'] < buying_25th_percentile) | (sales_data_2['Selling price'] < selling_25th_percentile)).sum()\n",
    "\n",
    "above_75th_percentile = ((sales_data_2['Buying price'] > buying_75th_percentile) | (sales_data_2['Selling price'] > selling_75th_percentile)).sum()\n",
    "\n",
    "total_transactions = len(sales_data_2)\n",
    "\n",
    "# Calculating percentages\n",
    "below_25th_percentile=(below_25th_percentile / total_transactions) * 100\n",
    "above_75th_percentile=(above_75th_percentile / total_transactions) * 100\n",
    "\n",
    "print(f\"Transactions Percentage below the 25th percentile: {below_25th_percentile} %\")\n",
    "print(f\"Transactions Percentage above the 75th percentile: {above_75th_percentile} %\")"
   ]
  },
  {
   "cell_type": "markdown",
   "id": "bbda9e53",
   "metadata": {},
   "source": [
    "# 11"
   ]
  },
  {
   "cell_type": "code",
   "execution_count": 16,
   "id": "bf48a0b5",
   "metadata": {},
   "outputs": [
    {
     "name": "stdout",
     "output_type": "stream",
     "text": [
      "Gross Margin without Vendor 4: 17.00147540983606\n",
      "Gross Margin with Vendor 4: 18.901111111111106\n",
      "Impact on Gross Margin by honoring Vendor 4: 1.899635701275045\n"
     ]
    }
   ],
   "source": [
    "# Calculating gross margin without honoring vendor4\n",
    "optimal_gross_margin_without_vendor4 = (sales_data_2[sales_data_2['Firm bought from'] != 'Vendor4']['Selling price'] - sales_data_2[sales_data_2['Firm bought from'] != 'Vendor4']['Buying price']).mean()\n",
    "\n",
    "# Calculating gross margin when honoring vendor4\n",
    "optimal_gross_margin_with_vendor4 = (sales_data_2[sales_data_2['Firm bought from'] == 'Vendor4']['Selling price'] - sales_data_2[sales_data_2['Firm bought from'] == 'Vendor4']['Buying price']).mean()\n",
    "\n",
    "# Calculating impact on gross margin\n",
    "impact_on_gross_margin = optimal_gross_margin_with_vendor4 - optimal_gross_margin_without_vendor4\n",
    "\n",
    "# Print the results\n",
    "print(\"Gross Margin without Vendor 4:\", optimal_gross_margin_without_vendor4)\n",
    "print(\"Gross Margin with Vendor 4:\", optimal_gross_margin_with_vendor4)\n",
    "print(\"Impact on Gross Margin by honoring Vendor 4:\", impact_on_gross_margin)\n"
   ]
  },
  {
   "cell_type": "markdown",
   "id": "4262ef28",
   "metadata": {},
   "source": [
    "# 12"
   ]
  },
  {
   "cell_type": "code",
   "execution_count": 17,
   "id": "3daf2377",
   "metadata": {},
   "outputs": [
    {
     "name": "stdout",
     "output_type": "stream",
     "text": [
      "Vendor for Strategic Tie-Up: Vendor4\n",
      "Theoretical Max Gross Margin (Considering Quantity Bought): 58630.99\n"
     ]
    }
   ],
   "source": [
    "# Calculate the maximum gross margin by assuming the selling price that maximizes profit\n",
    "sales_data_2['gross_margin'] = (sales_data_2['Selling price'] - sales_data_2['Buying price']) * sales_data_2['Quantity sold']\n",
    "\n",
    "# Find the selling price that maximizes profit for each row\n",
    "sales_data_2['optimal_selling_price'] = sales_data_2.apply(lambda row: row['Buying price'] if row['Buying price'] > row['Selling price'] else row['Selling price'], axis=1)\n",
    "\n",
    "# Calculate total gross margin per vendor\n",
    "vendor_gross_margin = sales_data_2.groupby('Firm bought from')['gross_margin'].sum()\n",
    "\n",
    "# Find the vendor with the highest total gross margin\n",
    "max_profit_vendor = vendor_gross_margin.idxmax()\n",
    "\n",
    "# Calculate the maximum possible gross margin\n",
    "max_possible_gross_margin = (sales_data_2['optimal_selling_price'] - sales_data_2['Buying price']) * sales_data_2['Quantity bought']\n",
    "\n",
    "# Calculate the theoretical maximum gross margin\n",
    "theoretical_max_gross_margin = max_possible_gross_margin.sum()\n",
    "\n",
    "# Vendor with the highest total gross margin\n",
    "print(\"Vendor for Strategic Tie-Up:\", max_profit_vendor)\n",
    "\n",
    "# Theoretical max gross margin\n",
    "print(\"Theoretical Max Gross Margin (Considering Quantity Bought):\", theoretical_max_gross_margin)"
   ]
  },
  {
   "cell_type": "markdown",
   "id": "b19676d3",
   "metadata": {},
   "source": [
    "# 13"
   ]
  },
  {
   "cell_type": "code",
   "execution_count": 21,
   "id": "c2d4d4a2",
   "metadata": {},
   "outputs": [],
   "source": [
    "#Calculating the price elasticity of Sapota\n",
    "\n",
    "def calculate_price_elasticity(data, price_column, quantity_column):\n",
    "    elasticity = data.groupby(price_column)[quantity_column].sum().pct_change()\n",
    "    return elasticity\n",
    "\n",
    "# Calculate price elasticity for selling price\n",
    "price_elasticity_selling = calculate_price_elasticity(sales_data_2, 'Selling price', 'Quantity sold')\n",
    "\n",
    "# Calculate price elasticity for buying price\n",
    "price_elasticity_buying = calculate_price_elasticity(sales_data_2, 'Buying price', 'Quantity sold')"
   ]
  },
  {
   "cell_type": "code",
   "execution_count": 22,
   "id": "1495b727",
   "metadata": {},
   "outputs": [
    {
     "name": "stdout",
     "output_type": "stream",
     "text": [
      "Price Elasticity of Sapota (Selling Price): Selling price\n",
      "11.65           NaN\n",
      "12.26     -0.640000\n",
      "14.31      3.444444\n",
      "14.78     -0.900000\n",
      "16.25     -0.250000\n",
      "            ...    \n",
      "131.98     5.133333\n",
      "132.53    -0.902174\n",
      "135.33     3.555556\n",
      "140.92    -0.975610\n",
      "146.76    61.000000\n",
      "Name: Quantity sold, Length: 69, dtype: float64\n",
      "\n",
      "Percentage Change in Quantity Sold for a Rs. 1 Increase in Price: Selling price\n",
      "11.65             NaN\n",
      "12.26      -64.000000\n",
      "14.31      344.444444\n",
      "14.78      -90.000000\n",
      "16.25      -25.000000\n",
      "             ...     \n",
      "131.98     513.333333\n",
      "132.53     -90.217391\n",
      "135.33     355.555556\n",
      "140.92     -97.560976\n",
      "146.76    6100.000000\n",
      "Name: Quantity sold, Length: 69, dtype: float64\n",
      "\n",
      "Percentage Change in Quantity Sold for a Rs. 1 Decrease in Price: Selling price\n",
      "11.65             NaN\n",
      "12.26       64.000000\n",
      "14.31     -344.444444\n",
      "14.78       90.000000\n",
      "16.25       25.000000\n",
      "             ...     \n",
      "131.98    -513.333333\n",
      "132.53      90.217391\n",
      "135.33    -355.555556\n",
      "140.92      97.560976\n",
      "146.76   -6100.000000\n",
      "Name: Quantity sold, Length: 69, dtype: float64\n"
     ]
    }
   ],
   "source": [
    "# Calculating the percentage change in quantity sold when price increases by Rs. 1\n",
    "increase_price = 1\n",
    "percentage_change_increase = price_elasticity_selling * increase_price * 100\n",
    "\n",
    "# Calculating the percentage change in quantity sold when price decreases by Rs. 1\n",
    "decrease_price = -1\n",
    "percentage_change_decrease = price_elasticity_selling * decrease_price * 100\n",
    "\n",
    "print(\"Price Elasticity of Sapota (Selling Price):\", price_elasticity_selling)\n",
    "print(\"\\nPercentage Change in Quantity Sold for a Rs. 1 Increase in Price:\", percentage_change_increase)\n",
    "print(\"\\nPercentage Change in Quantity Sold for a Rs. 1 Decrease in Price:\", percentage_change_decrease)\n"
   ]
  },
  {
   "cell_type": "code",
   "execution_count": null,
   "id": "b0069b0c",
   "metadata": {},
   "outputs": [],
   "source": []
  }
 ],
 "metadata": {
  "kernelspec": {
   "display_name": "Python 3 (ipykernel)",
   "language": "python",
   "name": "python3"
  },
  "language_info": {
   "codemirror_mode": {
    "name": "ipython",
    "version": 3
   },
   "file_extension": ".py",
   "mimetype": "text/x-python",
   "name": "python",
   "nbconvert_exporter": "python",
   "pygments_lexer": "ipython3",
   "version": "3.9.16"
  }
 },
 "nbformat": 4,
 "nbformat_minor": 5
}
